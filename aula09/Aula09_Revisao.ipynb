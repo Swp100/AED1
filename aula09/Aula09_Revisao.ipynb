{
 "cells": [
  {
   "cell_type": "markdown",
   "metadata": {},
   "source": [
    "![Algoritmos e Estrutura de Dados I](AED1_banner.jpg)"
   ]
  },
  {
   "cell_type": "markdown",
   "metadata": {},
   "source": [
    "## <font color='blue'>Algoritmos e Estrutura de Dados I</font>\n",
    "## <font color='blue'>Aula 9 -  Revisão</font>"
   ]
  },
  {
   "cell_type": "code",
   "execution_count": null,
   "metadata": {},
   "outputs": [],
   "source": [
    "# Versão da Linguagem Python\n",
    "from platform import python_version\n",
    "print('Versão da Linguagem Python Usada Neste Jupyter Notebook:', python_version())"
   ]
  },
  {
   "cell_type": "markdown",
   "metadata": {},
   "source": [
    "## Estrutura sequencial"
   ]
  },
  {
   "cell_type": "markdown",
   "metadata": {},
   "source": [
    "Escreva um programa em Python que solicite ao usuário o valor de dois números, calcule e exiba a soma deles."
   ]
  },
  {
   "cell_type": "code",
   "execution_count": 6,
   "metadata": {},
   "outputs": [
    {
     "name": "stdin",
     "output_type": "stream",
     "text": [
      "Entre com o primeiro número:  2\n",
      "Entre com o segundo número:  8\n"
     ]
    },
    {
     "name": "stdout",
     "output_type": "stream",
     "text": [
      "A soma dos dois números é:  10.0\n"
     ]
    }
   ],
   "source": [
    "x1 = float(input(\"Entre com o primeiro número: \"))\n",
    "x2 = float(input(\"Entre com o segundo número: \"))\n",
    "soma = x1 + x2\n",
    "print(\"A soma dos dois números é: \", soma)\n"
   ]
  },
  {
   "attachments": {},
   "cell_type": "markdown",
   "metadata": {},
   "source": [
    "Escreva um programa em Python que solicite ao usuário a temperatura em graus Celsius e converta para Fahrenheit. A fórmula para conversão é F = C * 9/5 + 32.\n"
   ]
  },
  {
   "cell_type": "code",
   "execution_count": 37,
   "metadata": {},
   "outputs": [
    {
     "name": "stdin",
     "output_type": "stream",
     "text": [
      "Entre coma  temperatura em graus celsius 35\n"
     ]
    },
    {
     "name": "stdout",
     "output_type": "stream",
     "text": [
      "35ºC é igual a 95.0ºF\n"
     ]
    }
   ],
   "source": [
    "celsius = int(input(\"Entre coma  temperatura em graus celsius\"))\n",
    "f = ((celsius * 9) /5) + 32\n",
    "print(f\"{celsius}ºC é igual a {f}ºF\")\n"
   ]
  },
  {
   "cell_type": "markdown",
   "metadata": {},
   "source": [
    "## Estrutura Condicional"
   ]
  },
  {
   "cell_type": "markdown",
   "metadata": {},
   "source": [
    "Escreva um programa em Python que solicite ao usuário um número e verifique se ele é positivo, negativo ou zero. Exiba a mensagem correspondente.\n"
   ]
  },
  {
   "cell_type": "code",
   "execution_count": 25,
   "metadata": {},
   "outputs": [
    {
     "name": "stdin",
     "output_type": "stream",
     "text": [
      "Digite um número:  -494949\n"
     ]
    },
    {
     "name": "stdout",
     "output_type": "stream",
     "text": [
      "O número -494949.0 é NEGATIVO\n"
     ]
    }
   ],
   "source": [
    "numero = float(input(\"Digite um número: \"))\n",
    "if (numero > 0):\n",
    "    print(f\"O número {numero} é POSITIVO\")\n",
    "elif (numero == 0):\n",
    "    print (f\"O número {numero} é ZERO\")\n",
    "else:\n",
    "    print(f\"O número {numero} é NEGATIVO\")"
   ]
  },
  {
   "cell_type": "markdown",
   "metadata": {},
   "source": [
    "Escreva um programa em Python que solicite ao usuário três números e determine qual é o maior entre eles.\n"
   ]
  },
  {
   "cell_type": "code",
   "execution_count": 27,
   "metadata": {},
   "outputs": [
    {
     "name": "stdin",
     "output_type": "stream",
     "text": [
      "Entre com o primeiro número:  3\n",
      "Entre com o segundo número:  2\n",
      "Entre com o terceiro número:  1\n"
     ]
    },
    {
     "name": "stdout",
     "output_type": "stream",
     "text": [
      "O maior número é:  3.0\n"
     ]
    }
   ],
   "source": [
    "x1 = float(input(\"Entre com o primeiro número: \"))\n",
    "x2 = float(input(\"Entre com o segundo número: \")) \n",
    "x3 = float(input(\"Entre com o terceiro número: \"))\n",
    "if (x1 > x2 and x1 > x3 ):\n",
    "    print(\"O maior número é: \", x1)\n",
    "elif (x2 > x1 and x2 > x3 ):\n",
    "    print(\"O maior número é: \", x2)\n",
    "else: \n",
    "    print(\"O maior número é: \", x3) \n"
   ]
  },
  {
   "cell_type": "code",
   "execution_count": 72,
   "metadata": {},
   "outputs": [
    {
     "name": "stdin",
     "output_type": "stream",
     "text": [
      "Digite o primeiro número:  1\n",
      "Digite o segundo número:  2\n",
      "Digite com o terceiro número:  3\n"
     ]
    },
    {
     "name": "stdout",
     "output_type": "stream",
     "text": [
      "O maior número é 3.0\n"
     ]
    }
   ],
   "source": [
    "n1 = float(input(\"Digite o primeiro número: \"))\n",
    "n2 = float(input(\"Digite o segundo número: \")) \n",
    "n3 = float(input(\"Digite com o terceiro número: \"))\n",
    "if n1 > n2:\n",
    "    if n1 > n3:\n",
    "        print(f\"O maior número é {n1}\")\n",
    "    else:\n",
    "        print(f\"O maior número é {n3}\")\n",
    "else:\n",
    "    if n2 > n3:\n",
    "        print(f\"O maior número é {n2}\")\n",
    "    else:\n",
    "        print(f\"O maior número é {n3}\")"
   ]
  },
  {
   "cell_type": "markdown",
   "metadata": {},
   "source": [
    "## Estrutura de Repetição"
   ]
  },
  {
   "cell_type": "markdown",
   "metadata": {},
   "source": [
    "Escreva um programa em Python que solicite um número inteiro positivo de 1 a 9 (você tem que verificar se o usuário não digitou fora desse intervalo) e em seguida, deve exibir a tabuada desse número.\n"
   ]
  },
  {
   "cell_type": "code",
   "execution_count": 80,
   "metadata": {},
   "outputs": [
    {
     "name": "stdin",
     "output_type": "stream",
     "text": [
      "Digite um valor de 0 a 9:  7\n"
     ]
    },
    {
     "name": "stdout",
     "output_type": "stream",
     "text": [
      "1 x 7.0 = 7.0\n",
      "2 x 7.0 = 14.0\n",
      "3 x 7.0 = 21.0\n",
      "4 x 7.0 = 28.0\n",
      "5 x 7.0 = 35.0\n",
      "6 x 7.0 = 42.0\n",
      "7 x 7.0 = 49.0\n",
      "8 x 7.0 = 56.0\n",
      "9 x 7.0 = 63.0\n",
      "10 x 7.0 = 70.0\n"
     ]
    }
   ],
   "source": [
    "while True:\n",
    "    digitacao = input(\"Digite um valor de 0 a 9: \")\n",
    "    if digitacao.isnumeric():\n",
    "        numero = float(digitacao)\n",
    "        if numero>=1 and numero<=9:\n",
    "            break\n",
    "        else:\n",
    "            print(\"Digite um valor entre 1 e 9!\")\n",
    "    else:\n",
    "            print(\"O que foi digitado não é um número! Repita!\")\n",
    "for i in range(1,11):\n",
    "    print(f\"{i} x {numero} = {i*numero}\")\n"
   ]
  },
  {
   "cell_type": "code",
   "execution_count": 76,
   "metadata": {},
   "outputs": [
    {
     "name": "stdin",
     "output_type": "stream",
     "text": [
      "Número:  2\n"
     ]
    },
    {
     "name": "stdout",
     "output_type": "stream",
     "text": [
      "2.0\n"
     ]
    }
   ],
   "source": [
    "a = input(\"Número: \")\n",
    "if a.isnumeric():\n",
    "    n = float(a)\n",
    "    print(n)\n",
    "else:\n",
    "    print(\"O valor digitado não é um número!\")"
   ]
  },
  {
   "cell_type": "markdown",
   "metadata": {},
   "source": [
    "Escreva um programa em Python que solicite ao usuário um número inteiro positivo e calcule o fatorial desse número.\n"
   ]
  },
  {
   "cell_type": "code",
   "execution_count": 81,
   "metadata": {},
   "outputs": [
    {
     "name": "stdin",
     "output_type": "stream",
     "text": [
      "Entre com um número inteiro POSITIVO 32\n"
     ]
    },
    {
     "name": "stdout",
     "output_type": "stream",
     "text": [
      "O fatorial de 32 é igual a 263130836933693530167218012160000000\n"
     ]
    }
   ],
   "source": [
    "numero = int(input(\"Entre com um número inteiro POSITIVO\"))\n",
    "fatorial = 1\n",
    "if (numero < 0):\n",
    "    print(\"Fatorial não existe para números NEGATIVOS!\")\n",
    "elif numero == 0:\n",
    "    print(\"Fatorial de zero é igual a 1.0\")\n",
    "else:\n",
    "    for i in range(1, numero + 1):\n",
    "        fatorial = fatorial * i\n",
    "print (f\"O fatorial de {numero} é igual a {fatorial}\")        \n",
    "    \n",
    "    \n",
    "\n",
    "\n"
   ]
  },
  {
   "cell_type": "markdown",
   "metadata": {},
   "source": [
    "## Geral"
   ]
  },
  {
   "cell_type": "markdown",
   "metadata": {},
   "source": [
    "Você é um cientista de dados e precisa analisar as notas de um conjunto de estudantes em uma disciplina. Você deverá escrever um programa em Python que solicite ao usuário o número de estudantes e, em seguida, as notas desses estudantes. O programa deve calcular e exibir:\n",
    "\n",
    "- A média das notas.\n",
    "- A maior e a menor nota.\n",
    "- O número de estudantes aprovados (nota maior ou igual a 6) e reprovados (nota menor que 6).\n",
    "\n",
    "Regras:\n",
    "\n",
    "- Utilize variáveis simples para armazenar as informações.\n",
    "- Utilize estruturas de repetição para coletar as notas dos estudantes.\n",
    "- Utilize estruturas condicionais para determinar o status de aprovação dos estudantes."
   ]
  },
  {
   "cell_type": "code",
   "execution_count": null,
   "metadata": {},
   "outputs": [],
   "source": [
    "\n"
   ]
  },
  {
   "cell_type": "markdown",
   "metadata": {},
   "source": [
    "Faça um programa que receba um número inteiro positivo e transforme esse número para binário."
   ]
  },
  {
   "cell_type": "code",
   "execution_count": null,
   "metadata": {},
   "outputs": [],
   "source": []
  },
  {
   "cell_type": "markdown",
   "metadata": {},
   "source": [
    "## Fim da Aula 9"
   ]
  }
 ],
 "metadata": {
  "kernelspec": {
   "display_name": "Python 3 (ipykernel)",
   "language": "python",
   "name": "python3"
  },
  "language_info": {
   "codemirror_mode": {
    "name": "ipython",
    "version": 3
   },
   "file_extension": ".py",
   "mimetype": "text/x-python",
   "name": "python",
   "nbconvert_exporter": "python",
   "pygments_lexer": "ipython3",
   "version": "3.12.4"
  }
 },
 "nbformat": 4,
 "nbformat_minor": 4
}
