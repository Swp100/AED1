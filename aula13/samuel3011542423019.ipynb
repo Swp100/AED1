{
 "cells": [
  {
   "cell_type": "markdown",
   "id": "e047b6aa",
   "metadata": {},
   "source": [
    "Exercício 1: Crie um programa que recebe uma frase de entrada e a normaliza. A normalização deve transformar a frase para minúsculas, remover os espaços em excesso e substituir os espaços restantes por underscores (_).\n",
    "Exemplo de execução:\n",
    "Digite uma frase: Batatinha quando nasce\n",
    "Frase normalizada: batatinha_quando_nasce."
   ]
  },
  {
   "cell_type": "code",
   "execution_count": 4,
   "id": "f307afd8",
   "metadata": {},
   "outputs": [
    {
     "name": "stdout",
     "output_type": "stream",
     "text": [
      "Digite uma frase: Eu sou programador\n",
      "Frase normalizada: eu_sou_programador\n"
     ]
    }
   ],
   "source": [
    "def normalizar_frase(frase):\n",
    "    frase = frase.lower()\n",
    "    frase = ' '.join(frase.split())\n",
    "    frase_normalizada = frase.replace(' ', '_')  \n",
    "    return frase_normalizada\n",
    "frase_entrada = input(\"Digite uma frase: \")\n",
    "frase_normalizada = normalizar_frase(frase_entrada)\n",
    "print(\"Frase normalizada:\", frase_normalizada)"
   ]
  },
  {
   "cell_type": "markdown",
   "id": "31367bf4",
   "metadata": {},
   "source": [
    "Exercício 2: Dada uma lista pré-definida de vendas diárias, remova todas as vendas menores que R$ 100,00 e calcule a média das vendas restantes.\n",
    "Exemplo de execução:\n",
    "Vendas = [120, 85, 300, 55, 200, 95]\n",
    "\n",
    "média da vendas filtradas: 206.67"
   ]
  },
  {
   "cell_type": "code",
   "execution_count": 5,
   "id": "a6bb482e",
   "metadata": {},
   "outputs": [
    {
     "name": "stdout",
     "output_type": "stream",
     "text": [
      "Média das vendas restantes (acima de R$ 100,00): R$ 206.67\n"
     ]
    }
   ],
   "source": [
    "def calcular_media_vendas(vendas):\n",
    "    vendas_filtradas = [venda for venda in vendas if venda >= 100]\n",
    "    if len(vendas_filtradas) > 0:\n",
    "        media = sum(vendas_filtradas) / len(vendas_filtradas)\n",
    "    else:\n",
    "        media = 0  # Caso não haja vendas acima de 100, a média é zero\n",
    "        \n",
    "    return media\n",
    "\n",
    "vendas = [120, 85, 300, 55, 200, 95]\n",
    "\n",
    "media_vendas = calcular_media_vendas(vendas)\n",
    "\n",
    "print(\"Média das vendas restantes (acima de R$ 100,00): R$\", round(media_vendas, 2))"
   ]
  },
  {
   "cell_type": "markdown",
   "id": "5a313541",
   "metadata": {},
   "source": [
    "Exercício 3: Crie um programa que recebe três coordenadas (x, y) como tuplas e calcula a distância média dos pontos a partir da origem (0, 0). Use a fórmula da distância Euclidiana.\n",
    "\n",
    "Exemplo de execução:\n",
    "Digite x1: 2\n",
    "Digite y1: 2\n",
    "Digite x2: 3\n",
    "Digite y2: 3\n",
    "Digite x3: 4\n",
    "Digite y3: 4\n",
    "Distância média: 4.2"
   ]
  },
  {
   "cell_type": "code",
   "execution_count": 6,
   "id": "3ec91b49",
   "metadata": {},
   "outputs": [
    {
     "name": "stdout",
     "output_type": "stream",
     "text": [
      "Digite x1: 2\n",
      "Digite y1: 2\n",
      "Digite x2: 3\n",
      "Digite y2: 3\n",
      "Digite x3: 4\n",
      "Digite y3: 4\n",
      "Distância média dos pontos até a origem: 4.24\n"
     ]
    }
   ],
   "source": [
    "import math\n",
    "\n",
    "def calcular_distancia(x, y):\n",
    "    \"\"\"Calcula a distância Euclidiana de um ponto (x, y) até a origem (0, 0).\"\"\"\n",
    "    return math.sqrt(x**2 + y**2)\n",
    "\n",
    "def distancia_media():\n",
    "    \n",
    "    x1 = float(input(\"Digite x1: \"))\n",
    "    y1 = float(input(\"Digite y1: \"))\n",
    "    x2 = float(input(\"Digite x2: \"))\n",
    "    y2 = float(input(\"Digite y2: \"))\n",
    "    x3 = float(input(\"Digite x3: \"))\n",
    "    y3 = float(input(\"Digite y3: \"))\n",
    "\n",
    "    distancia1 = calcular_distancia(x1, y1)\n",
    "    distancia2 = calcular_distancia(x2, y2)\n",
    "    distancia3 = calcular_distancia(x3, y3)\n",
    "\n",
    "    distancia_media = (distancia1 + distancia2 + distancia3) / 3\n",
    "\n",
    "    print(\"Distância média dos pontos até a origem:\", round(distancia_media, 2))\n",
    "\n",
    "distancia_media()"
   ]
  },
  {
   "cell_type": "markdown",
   "id": "697758dd",
   "metadata": {},
   "source": [
    "Exercício 4: Crie um programa que recebe uma frase de entrada e conta a frequência de cada palavra. O programa deve mostrar a contagem de cada palavra ao final.\n",
    "\n",
    "Exemplo de Execução:\n",
    "Digite uma frase: batatinha quando nasce espalha rama quando nasce\n",
    "Frequência de palabras: {'batatinha': 1, 'quando': 2, 'nasce': 2, 'espalha': 1, 'rama': 1}"
   ]
  },
  {
   "cell_type": "code",
   "execution_count": 8,
   "id": "518c41b8",
   "metadata": {},
   "outputs": [
    {
     "name": "stdout",
     "output_type": "stream",
     "text": [
      "Digite uma frase: batatinha quando nasce espalha rama quando nasce\n",
      "Frequência de palavras: {'batatinha': 1, 'quando': 2, 'nasce': 2, 'espalha': 1, 'rama': 1}\n"
     ]
    }
   ],
   "source": [
    "def contar_frequencia_palavras(frase):\n",
    "    palavras = frase.lower().split()\n",
    "    frequencia = {}\n",
    "    \n",
    "    for palavra in palavras:\n",
    "        if palavra in frequencia:\n",
    "            frequencia[palavra] += 1\n",
    "        else:\n",
    "            frequencia[palavra] = 1\n",
    "            \n",
    "    return frequencia\n",
    "\n",
    "frase = input(\"Digite uma frase: \")\n",
    "\n",
    "frequencia_palavras = contar_frequencia_palavras(frase)\n",
    "\n",
    "print(\"Frequência de palavras:\", frequencia_palavras)"
   ]
  }
 ],
 "metadata": {
  "kernelspec": {
   "display_name": "Python 3 (ipykernel)",
   "language": "python",
   "name": "python3"
  },
  "language_info": {
   "codemirror_mode": {
    "name": "ipython",
    "version": 3
   },
   "file_extension": ".py",
   "mimetype": "text/x-python",
   "name": "python",
   "nbconvert_exporter": "python",
   "pygments_lexer": "ipython3",
   "version": "3.9.7"
  }
 },
 "nbformat": 4,
 "nbformat_minor": 5
}
