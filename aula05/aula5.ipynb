{
 "cells": [
  {
   "cell_type": "code",
   "execution_count": 119,
   "id": "9675d95c-889a-4249-a8b6-43ea142077c4",
   "metadata": {},
   "outputs": [
    {
     "name": "stdout",
     "output_type": "stream",
     "text": [
      "Olá Mundo!\n"
     ]
    }
   ],
   "source": [
    "print(\"Olá Mundo!\")"
   ]
  },
  {
   "cell_type": "code",
   "execution_count": 120,
   "id": "9faa47e2-f96b-42fd-8185-a48c515d2245",
   "metadata": {},
   "outputs": [
    {
     "data": {
      "text/plain": [
       "10"
      ]
     },
     "execution_count": 120,
     "metadata": {},
     "output_type": "execute_result"
    }
   ],
   "source": [
    "5+5"
   ]
  },
  {
   "cell_type": "code",
   "execution_count": 121,
   "id": "0bb7e9a3-6a72-4d81-bd58-c768e2974a19",
   "metadata": {},
   "outputs": [],
   "source": [
    "nome = \"Samuel\""
   ]
  },
  {
   "cell_type": "code",
   "execution_count": 122,
   "id": "9975a6b7-022f-4528-9209-7123fecabfe8",
   "metadata": {},
   "outputs": [
    {
     "data": {
      "text/plain": [
       "'Samuel'"
      ]
     },
     "execution_count": 122,
     "metadata": {},
     "output_type": "execute_result"
    }
   ],
   "source": [
    "nome "
   ]
  },
  {
   "cell_type": "code",
   "execution_count": 123,
   "id": "3753e27e-2532-4390-be2a-e8ceb7704ce1",
   "metadata": {},
   "outputs": [],
   "source": [
    "x = 345"
   ]
  },
  {
   "cell_type": "code",
   "execution_count": 124,
   "id": "ac240099-7cba-4196-91aa-ea3e2682ed40",
   "metadata": {},
   "outputs": [],
   "source": [
    "y = x + 2"
   ]
  },
  {
   "cell_type": "code",
   "execution_count": 125,
   "id": "59f7e2f1-3b89-4c23-954f-5273d6afddff",
   "metadata": {},
   "outputs": [
    {
     "data": {
      "text/plain": [
       "347"
      ]
     },
     "execution_count": 125,
     "metadata": {},
     "output_type": "execute_result"
    }
   ],
   "source": [
    "y"
   ]
  },
  {
   "cell_type": "code",
   "execution_count": 83,
   "id": "65ef79f6-2a73-4230-b393-10631e2e02a6",
   "metadata": {},
   "outputs": [],
   "source": [
    "b = 1"
   ]
  },
  {
   "cell_type": "code",
   "execution_count": 84,
   "id": "6e7c9260-b28a-441e-975c-175b69e59550",
   "metadata": {},
   "outputs": [],
   "source": [
    "c = 1"
   ]
  },
  {
   "cell_type": "code",
   "execution_count": 85,
   "id": "62d5965c-6e01-4468-80c1-69109fedc2ce",
   "metadata": {},
   "outputs": [],
   "source": [
    "y = (x + 3 * b) / (2 * x + c)"
   ]
  },
  {
   "cell_type": "code",
   "execution_count": 86,
   "id": "af11063f-95bc-450d-80a1-eabe06e66444",
   "metadata": {},
   "outputs": [
    {
     "data": {
      "text/plain": [
       "0.5036179450072359"
      ]
     },
     "execution_count": 86,
     "metadata": {},
     "output_type": "execute_result"
    }
   ],
   "source": [
    "y"
   ]
  },
  {
   "cell_type": "code",
   "execution_count": 87,
   "id": "c70c1358-96cb-4b92-8a8e-b1b78a7b4e6a",
   "metadata": {},
   "outputs": [],
   "source": [
    "a = 5"
   ]
  },
  {
   "cell_type": "code",
   "execution_count": 88,
   "id": "35292e6c-0e6a-413d-a7cd-3559c4d49d77",
   "metadata": {},
   "outputs": [
    {
     "data": {
      "text/plain": [
       "int"
      ]
     },
     "execution_count": 88,
     "metadata": {},
     "output_type": "execute_result"
    }
   ],
   "source": [
    "type(a)"
   ]
  },
  {
   "cell_type": "code",
   "execution_count": 89,
   "id": "46a2cdf0-2157-40aa-b6f3-18a2e62b1a9e",
   "metadata": {},
   "outputs": [],
   "source": [
    "a = True"
   ]
  },
  {
   "cell_type": "code",
   "execution_count": 90,
   "id": "9f382dce-d1bf-441b-b9dc-3e89bc552964",
   "metadata": {},
   "outputs": [
    {
     "data": {
      "text/plain": [
       "bool"
      ]
     },
     "execution_count": 90,
     "metadata": {},
     "output_type": "execute_result"
    }
   ],
   "source": [
    "type(a)"
   ]
  },
  {
   "cell_type": "code",
   "execution_count": 91,
   "id": "2e106cd5-28d6-48e1-8cad-5264cea962f3",
   "metadata": {},
   "outputs": [],
   "source": [
    "a = 5.6"
   ]
  },
  {
   "cell_type": "code",
   "execution_count": 92,
   "id": "a5077136-c99d-49cb-9e66-6c5e0f38efbe",
   "metadata": {},
   "outputs": [
    {
     "data": {
      "text/plain": [
       "float"
      ]
     },
     "execution_count": 92,
     "metadata": {},
     "output_type": "execute_result"
    }
   ],
   "source": [
    "type(a)"
   ]
  },
  {
   "cell_type": "code",
   "execution_count": 93,
   "id": "83b0bb65-1ac5-4d85-ac10-4d928875e30e",
   "metadata": {},
   "outputs": [],
   "source": [
    "x = 45\n",
    "y = 23"
   ]
  },
  {
   "cell_type": "code",
   "execution_count": 94,
   "id": "51859d7d-ee93-4147-9909-150c2e3a8a8d",
   "metadata": {},
   "outputs": [],
   "source": [
    "soma = x + y\n",
    "divisao = x / y"
   ]
  },
  {
   "cell_type": "code",
   "execution_count": 95,
   "id": "0376303f-ff25-4743-b99f-a474146b8379",
   "metadata": {},
   "outputs": [
    {
     "data": {
      "text/plain": [
       "int"
      ]
     },
     "execution_count": 95,
     "metadata": {},
     "output_type": "execute_result"
    }
   ],
   "source": [
    "type(soma)"
   ]
  },
  {
   "cell_type": "code",
   "execution_count": 96,
   "id": "5126fe00-fd41-4dc1-a5fe-5fb3f7d79828",
   "metadata": {},
   "outputs": [
    {
     "name": "stdout",
     "output_type": "stream",
     "text": [
      "68\n"
     ]
    }
   ],
   "source": [
    "print(soma)"
   ]
  },
  {
   "cell_type": "code",
   "execution_count": 97,
   "id": "6ea2b4b2-5f53-4592-b610-888bc9a093f9",
   "metadata": {},
   "outputs": [
    {
     "data": {
      "text/plain": [
       "1.9565217391304348"
      ]
     },
     "execution_count": 97,
     "metadata": {},
     "output_type": "execute_result"
    }
   ],
   "source": [
    "divisao"
   ]
  },
  {
   "cell_type": "code",
   "execution_count": 98,
   "id": "ab0a41d8-78bd-408d-9a7d-5a2e92d42f4d",
   "metadata": {},
   "outputs": [
    {
     "data": {
      "text/plain": [
       "1"
      ]
     },
     "execution_count": 98,
     "metadata": {},
     "output_type": "execute_result"
    }
   ],
   "source": [
    "x // y"
   ]
  },
  {
   "cell_type": "code",
   "execution_count": 99,
   "id": "1328c5bd-362e-4603-87f6-7f3f2e60c6e7",
   "metadata": {},
   "outputs": [
    {
     "data": {
      "text/plain": [
       "22"
      ]
     },
     "execution_count": 99,
     "metadata": {},
     "output_type": "execute_result"
    }
   ],
   "source": [
    "x % y"
   ]
  },
  {
   "cell_type": "code",
   "execution_count": 100,
   "id": "b3f74f37-f39d-4c2b-958a-a10ca088d56d",
   "metadata": {},
   "outputs": [],
   "source": [
    "r = 10_000_000_000"
   ]
  },
  {
   "cell_type": "code",
   "execution_count": 101,
   "id": "a7cc94af-b045-49a4-ab46-f02bb5e5ddb4",
   "metadata": {},
   "outputs": [
    {
     "data": {
      "text/plain": [
       "10000000000"
      ]
     },
     "execution_count": 101,
     "metadata": {},
     "output_type": "execute_result"
    }
   ],
   "source": [
    "r"
   ]
  },
  {
   "cell_type": "code",
   "execution_count": 102,
   "id": "32d5f35e-2e0f-4dbd-9412-09afbbe2c3b7",
   "metadata": {
    "scrolled": true
   },
   "outputs": [
    {
     "data": {
      "text/plain": [
       "105654455657631171893227100372314453125"
      ]
     },
     "execution_count": 102,
     "metadata": {},
     "output_type": "execute_result"
    }
   ],
   "source": [
    "x ** y"
   ]
  },
  {
   "cell_type": "code",
   "execution_count": 103,
   "id": "ce1595d6-0cda-44e6-86d1-56a0958108c6",
   "metadata": {},
   "outputs": [],
   "source": [
    "x = 11111111111111111111111111111111111111111111111111111111111111111111111111111111111111111111111111111111111111111111111"
   ]
  },
  {
   "cell_type": "code",
   "execution_count": 104,
   "id": "a40aab00-34b4-42f0-a2fb-85e1deb818ca",
   "metadata": {},
   "outputs": [],
   "source": [
    "y = x ** 22"
   ]
  },
  {
   "cell_type": "code",
   "execution_count": 105,
   "id": "f37c207f-d07d-406a-accc-898ac75a5d88",
   "metadata": {},
   "outputs": [
    {
     "data": {
      "text/plain": [
       "11111111111111111111111111111111111111111111111111111111111111111111111111111111111111111111111111111111111111111111111"
      ]
     },
     "execution_count": 105,
     "metadata": {},
     "output_type": "execute_result"
    }
   ],
   "source": [
    "x"
   ]
  },
  {
   "cell_type": "code",
   "execution_count": 106,
   "id": "a3290798-5535-4041-a820-eae5231fce20",
   "metadata": {},
   "outputs": [
    {
     "data": {
      "text/plain": [
       "101546460987283445447926646921077163461485623091960793114730552362004850544105701826164039542383074552578330171471450847043657648690885329481618831368033323292496070987659160374041399354333235118289875435634622456506345889281668713713444788605328806332512003226211684973104762783699566682476851891309187124512624503710514548311361117635525088384196761043023934218563480619311105525258237674463947447840363055646050657250415214709167859712095111665557891189146397274523026917930205878864285628406569608094431610995992258546736452067002697320756004554025210721398610626584275023808931906307347534485874095297053154484419957383068064818525064649332816448038969004674642210660630883895712671980069764558909202080541107979910516186440775585538678659546135266300800634192293329315457716657428885803638735001952498176438050225438429265060581586808619856734132038668815608593781135155879643430558274713994872758382044221002735957940221934673375726200998619741707141765086237209788992632750866577531742838983944433627786956257166868951628684393890526738485735803554579619450261409022686268639980953576696491368735355493515106115535768709917603433938552727027776350964526502091415304079117491077623630980097752567474282741539375627860270153637838037067457209293788824842689942249099414214032256757548510228467102419250803921551758181024617717359089841490850141723442330546587550927694991100335687413049742671140889640108423019112045339061772084546521623097047801462177898166754526654619747928394508562173213537892761195368697344139274916642122101188912828909485263807979565948949355786771776566322755090587367977747817864708702967092135088574936696157738153662412744561044075408779462646646385995690772154118953213696148444995476855685150494078213740537870690920970077941483887033710791880330331992747835607018709772205458282206060895944844575032948764160657304043246807112992649739986548980861404104797100837778473666579779251963411694106061268392567969413375252265952382496324098485812741679149509652136923518932863469666503197109642057712394172721827184362018498410373319577575227860350404922947817212647474704485088678501826536970184146989044324103353987658164811879176240023563385261957659205086838609426304044325392431538618129997354387089848265762587337500465256209510066734553369053432968052103331512187818741865848228703911599145569330168577370393389386982753057303266966822883555735452697979811401295109642222496007985679389073427949417454471020242918220676174972310858031293381289703523127029111066765545578898204560562758994921780284047770842732100159541670465921399746900671621215638157616549521"
      ]
     },
     "execution_count": 106,
     "metadata": {},
     "output_type": "execute_result"
    }
   ],
   "source": [
    "y"
   ]
  },
  {
   "cell_type": "code",
   "execution_count": 110,
   "id": "637181ae-52b0-48a0-ac4f-c73ed3d5372a",
   "metadata": {},
   "outputs": [],
   "source": [
    "y = 4.9"
   ]
  },
  {
   "cell_type": "code",
   "execution_count": 111,
   "id": "84e573e5-409c-4e0a-ad21-29ca10341769",
   "metadata": {},
   "outputs": [
    {
     "data": {
      "text/plain": [
       "float"
      ]
     },
     "execution_count": 111,
     "metadata": {},
     "output_type": "execute_result"
    }
   ],
   "source": [
    "type(y)"
   ]
  },
  {
   "cell_type": "code",
   "execution_count": 112,
   "id": "2395c884-6134-4408-b945-ed2158f540f4",
   "metadata": {},
   "outputs": [
    {
     "data": {
      "text/plain": [
       "4"
      ]
     },
     "execution_count": 112,
     "metadata": {},
     "output_type": "execute_result"
    }
   ],
   "source": [
    "int(y)"
   ]
  },
  {
   "cell_type": "code",
   "execution_count": 113,
   "id": "2ab9de2f-e628-4fc8-8141-f27195c826f5",
   "metadata": {},
   "outputs": [],
   "source": [
    "x = True"
   ]
  },
  {
   "cell_type": "code",
   "execution_count": 114,
   "id": "212922da-1004-4d4f-9fd9-472608c8611a",
   "metadata": {},
   "outputs": [
    {
     "data": {
      "text/plain": [
       "True"
      ]
     },
     "execution_count": 114,
     "metadata": {},
     "output_type": "execute_result"
    }
   ],
   "source": [
    "x"
   ]
  },
  {
   "cell_type": "code",
   "execution_count": 115,
   "id": "ccf04fb4-2b5f-4150-a874-4fdffd53b141",
   "metadata": {},
   "outputs": [],
   "source": [
    "y = False"
   ]
  },
  {
   "cell_type": "code",
   "execution_count": 116,
   "id": "d621b1ed-30cf-49b7-a552-4c23839299e1",
   "metadata": {},
   "outputs": [
    {
     "data": {
      "text/plain": [
       "False"
      ]
     },
     "execution_count": 116,
     "metadata": {},
     "output_type": "execute_result"
    }
   ],
   "source": [
    "x and y"
   ]
  },
  {
   "cell_type": "code",
   "execution_count": 128,
   "id": "80880e5b-3b89-4ade-9076-241d3c32c90a",
   "metadata": {},
   "outputs": [
    {
     "data": {
      "text/plain": [
       "345"
      ]
     },
     "execution_count": 128,
     "metadata": {},
     "output_type": "execute_result"
    }
   ],
   "source": [
    "x or y"
   ]
  },
  {
   "cell_type": "code",
   "execution_count": 129,
   "id": "64ff1426-9bf4-4dc7-883f-a9bcc6b02a6d",
   "metadata": {},
   "outputs": [
    {
     "data": {
      "text/plain": [
       "False"
      ]
     },
     "execution_count": 129,
     "metadata": {},
     "output_type": "execute_result"
    }
   ],
   "source": [
    "not x"
   ]
  },
  {
   "cell_type": "code",
   "execution_count": 145,
   "id": "9ea4632a-69d7-4935-bcb3-a280e0d02d6c",
   "metadata": {},
   "outputs": [],
   "source": [
    "nome = 'Samuel'"
   ]
  },
  {
   "cell_type": "code",
   "execution_count": 131,
   "id": "63e1b2bf-81bd-4690-8445-6a082f51d728",
   "metadata": {},
   "outputs": [
    {
     "data": {
      "text/plain": [
       "str"
      ]
     },
     "execution_count": 131,
     "metadata": {},
     "output_type": "execute_result"
    }
   ],
   "source": [
    "type(nome)"
   ]
  },
  {
   "cell_type": "code",
   "execution_count": 158,
   "id": "778c4963-e61e-4473-a736-bc3725cee0ec",
   "metadata": {},
   "outputs": [],
   "source": [
    "prenome = \"Samuel William 'Paes'\""
   ]
  },
  {
   "cell_type": "code",
   "execution_count": 159,
   "id": "ef2f35e6-b61a-446e-ba9d-f663aa152918",
   "metadata": {},
   "outputs": [],
   "source": [
    "nome_completo = prenome + nome"
   ]
  },
  {
   "cell_type": "code",
   "execution_count": 160,
   "id": "119a5baa-cc1a-4324-983a-18e6d9fde524",
   "metadata": {},
   "outputs": [
    {
     "data": {
      "text/plain": [
       "\"Samuel William 'Paes'Samuel\""
      ]
     },
     "execution_count": 160,
     "metadata": {},
     "output_type": "execute_result"
    }
   ],
   "source": [
    "nome_completo"
   ]
  },
  {
   "cell_type": "code",
   "execution_count": 161,
   "id": "aab6856c-f509-4607-ae78-498c83e2cfc3",
   "metadata": {},
   "outputs": [
    {
     "data": {
      "text/plain": [
       "'SamuelSamuelSamuelSamuel'"
      ]
     },
     "execution_count": 161,
     "metadata": {},
     "output_type": "execute_result"
    }
   ],
   "source": [
    "nome * 4"
   ]
  },
  {
   "cell_type": "code",
   "execution_count": 164,
   "id": "1c0a640f-3e26-4b1f-b893-9c232cf02924",
   "metadata": {},
   "outputs": [
    {
     "data": {
      "text/plain": [
       "'S'"
      ]
     },
     "execution_count": 164,
     "metadata": {},
     "output_type": "execute_result"
    }
   ],
   "source": [
    "nome [0]"
   ]
  },
  {
   "cell_type": "code",
   "execution_count": 165,
   "id": "2c4c29e7-9b6a-43a1-b18b-db1d695668b0",
   "metadata": {},
   "outputs": [
    {
     "data": {
      "text/plain": [
       "'Sa'"
      ]
     },
     "execution_count": 165,
     "metadata": {},
     "output_type": "execute_result"
    }
   ],
   "source": [
    "nome [0:2]"
   ]
  },
  {
   "cell_type": "code",
   "execution_count": 166,
   "id": "ad4277b6-c6e3-426e-9fe7-1eb3099ff164",
   "metadata": {},
   "outputs": [
    {
     "data": {
      "text/plain": [
       "'A'"
      ]
     },
     "execution_count": 166,
     "metadata": {},
     "output_type": "execute_result"
    }
   ],
   "source": [
    "chr(65)\n"
   ]
  },
  {
   "cell_type": "code",
   "execution_count": 167,
   "id": "a465c670-e0d8-42f0-adff-bced1a93f82b",
   "metadata": {},
   "outputs": [
    {
     "data": {
      "text/plain": [
       "97"
      ]
     },
     "execution_count": 167,
     "metadata": {},
     "output_type": "execute_result"
    }
   ],
   "source": [
    "ord('a')\n"
   ]
  }
 ],
 "metadata": {
  "kernelspec": {
   "display_name": "Python 3 (ipykernel)",
   "language": "python",
   "name": "python3"
  },
  "language_info": {
   "codemirror_mode": {
    "name": "ipython",
    "version": 3
   },
   "file_extension": ".py",
   "mimetype": "text/x-python",
   "name": "python",
   "nbconvert_exporter": "python",
   "pygments_lexer": "ipython3",
   "version": "3.9.7"
  }
 },
 "nbformat": 4,
 "nbformat_minor": 5
}
